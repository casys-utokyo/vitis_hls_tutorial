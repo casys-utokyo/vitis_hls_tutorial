{
 "cells": [
  {
   "cell_type": "code",
   "execution_count": 1,
   "id": "92f41b2c-826a-4b69-9ef9-77f98893af31",
   "metadata": {},
   "outputs": [
    {
     "data": {
      "application/javascript": [
       "\n",
       "try {\n",
       "require(['notebook/js/codecell'], function(codecell) {\n",
       "  codecell.CodeCell.options_default.highlight_modes[\n",
       "      'magic_text/x-csrc'] = {'reg':[/^%%microblaze/]};\n",
       "  Jupyter.notebook.events.one('kernel_ready.Kernel', function(){\n",
       "      Jupyter.notebook.get_cells().map(function(cell){\n",
       "          if (cell.cell_type == 'code'){ cell.auto_highlight(); } }) ;\n",
       "  });\n",
       "});\n",
       "} catch (e) {};\n"
      ]
     },
     "metadata": {},
     "output_type": "display_data"
    },
    {
     "data": {
      "application/javascript": [
       "\n",
       "try {\n",
       "require(['notebook/js/codecell'], function(codecell) {\n",
       "  codecell.CodeCell.options_default.highlight_modes[\n",
       "      'magic_text/x-csrc'] = {'reg':[/^%%pybind11/]};\n",
       "  Jupyter.notebook.events.one('kernel_ready.Kernel', function(){\n",
       "      Jupyter.notebook.get_cells().map(function(cell){\n",
       "          if (cell.cell_type == 'code'){ cell.auto_highlight(); } }) ;\n",
       "  });\n",
       "});\n",
       "} catch (e) {};\n"
      ]
     },
     "metadata": {},
     "output_type": "display_data"
    }
   ],
   "source": [
    "from pynq import Overlay\n",
    "from pynq import MMIO\n",
    "from pynq import allocate\n",
    "import pynq.lib.dma\n",
    "import numpy as np\n",
    "import cv2\n",
    "%matplotlib inline\n",
    "import matplotlib . pyplot as plt\n",
    "import time"
   ]
  },
  {
   "cell_type": "code",
   "execution_count": 2,
   "id": "3122c081-cf97-43a1-bb74-aadc63bff572",
   "metadata": {},
   "outputs": [],
   "source": [
    "base = Overlay(\"matvec.bit\")"
   ]
  },
  {
   "cell_type": "code",
   "execution_count": 3,
   "id": "c0510d44-75b6-4215-96cb-ff9b997fea23",
   "metadata": {},
   "outputs": [
    {
     "data": {
      "text/plain": [
       "RegisterMap {\n",
       "  CTRL = Register(AP_START=0, AP_DONE=0, AP_IDLE=1, AP_READY=0, RESERVED_1=0, AUTO_RESTART=0, RESERVED_2=0, INTERRUPT=0, RESERVED_3=0),\n",
       "  GIER = Register(Enable=0, RESERVED=0),\n",
       "  IP_IER = Register(CHAN0_INT_EN=0, CHAN1_INT_EN=0, RESERVED_0=0),\n",
       "  IP_ISR = Register(CHAN0_INT_ST=0, CHAN1_INT_ST=0, RESERVED_0=0),\n",
       "  mat = Register(mat=write-only),\n",
       "  vec = Register(vec=write-only),\n",
       "  out_r = Register(out_r=write-only),\n",
       "  vec_len = Register(vec_len=write-only),\n",
       "  out_len = Register(out_len=write-only)\n",
       "}"
      ]
     },
     "execution_count": 3,
     "metadata": {},
     "output_type": "execute_result"
    }
   ],
   "source": [
    "registers = base.matvec_0.register_map\n",
    "registers"
   ]
  },
  {
   "cell_type": "code",
   "execution_count": 4,
   "id": "245193fb-83b2-42ed-9f5a-e8892e419b78",
   "metadata": {},
   "outputs": [],
   "source": [
    "vec_len = 1024 * 8\n",
    "out_len = 1024 * 8\n",
    "mat_shape = (out_len, vec_len)\n",
    "vec_shape = (vec_len,)\n",
    "out_shape = (out_len,)\n",
    "mat = allocate(mat_shape, dtype=np.int32, cacheable=False)\n",
    "vec = allocate(vec_shape, dtype=np.int32, cacheable=False)\n",
    "out = allocate(out_shape, dtype=np.int32, cacheable=False)"
   ]
  },
  {
   "cell_type": "code",
   "execution_count": 5,
   "id": "a088e417-eef5-4c67-8381-504802dffb2c",
   "metadata": {},
   "outputs": [],
   "source": [
    "mat[:] = np.arange(out_len * vec_len, dtype=np.int32).reshape(mat_shape)\n",
    "vec[:] = np.arange(vec_len, dtype=np.int32)\n",
    "out[:] = np.zeros(shape=out_shape, dtype=np.int32)"
   ]
  },
  {
   "cell_type": "code",
   "execution_count": 6,
   "id": "764e70de-08a2-4b89-a381-1d3570940fbe",
   "metadata": {},
   "outputs": [],
   "source": [
    "registers.mat.mat = mat.device_address\n",
    "registers.vec.vec = vec.device_address\n",
    "registers.out_r.out_r = out.device_address\n",
    "registers.vec_len.vec_len = vec_len\n",
    "registers.out_len.out_len = out_len"
   ]
  },
  {
   "cell_type": "code",
   "execution_count": 7,
   "id": "767e13d9-438a-40b4-be17-4d91dcc45a63",
   "metadata": {},
   "outputs": [],
   "source": [
    "start = time.perf_counter()\n",
    "registers.CTRL.AP_START = 1\n",
    "while True:\n",
    "    if registers.CTRL.AP_IDLE:\n",
    "        break\n",
    "end = time.perf_counter()"
   ]
  },
  {
   "cell_type": "code",
   "execution_count": 8,
   "id": "b2736d40-6366-4c31-bd3e-774689c4a9a9",
   "metadata": {},
   "outputs": [
    {
     "data": {
      "text/plain": [
       "0.5629988410000806"
      ]
     },
     "execution_count": 8,
     "metadata": {},
     "output_type": "execute_result"
    }
   ],
   "source": [
    "time_diff = end - start\n",
    "time_diff"
   ]
  },
  {
   "cell_type": "code",
   "execution_count": 9,
   "id": "cedd6c71-c90e-427a-a7a2-9a87b74877c5",
   "metadata": {},
   "outputs": [
    {
     "data": {
      "text/plain": [
       "0.3577899759984575"
      ]
     },
     "execution_count": 9,
     "metadata": {},
     "output_type": "execute_result"
    }
   ],
   "source": [
    "_mat = np.zeros(shape=mat_shape, dtype=np.int32)\n",
    "_vec = np.zeros(shape=vec_shape, dtype=np.int32)\n",
    "_mat[:] = mat\n",
    "_vec[:] = vec\n",
    "start = time.perf_counter()\n",
    "expected = np.matmul(_mat, _vec)\n",
    "end = time.perf_counter()\n",
    "time_diff = end - start\n",
    "time_diff"
   ]
  },
  {
   "cell_type": "code",
   "execution_count": 10,
   "id": "97c165bf-0b34-40ae-a412-0c2a4c0d4a4b",
   "metadata": {},
   "outputs": [
    {
     "data": {
      "text/plain": [
       "PynqBuffer(0)"
      ]
     },
     "execution_count": 10,
     "metadata": {},
     "output_type": "execute_result"
    }
   ],
   "source": [
    "diff = np.add.reduce(expected - out)\n",
    "diff"
   ]
  },
  {
   "cell_type": "code",
   "execution_count": null,
   "id": "c1fd64fa-d412-47e5-bf30-27e42967ef5d",
   "metadata": {},
   "outputs": [],
   "source": []
  }
 ],
 "metadata": {
  "kernelspec": {
   "display_name": "Python 3 (ipykernel)",
   "language": "python",
   "name": "python3"
  },
  "language_info": {
   "codemirror_mode": {
    "name": "ipython",
    "version": 3
   },
   "file_extension": ".py",
   "mimetype": "text/x-python",
   "name": "python",
   "nbconvert_exporter": "python",
   "pygments_lexer": "ipython3",
   "version": "3.10.12"
  }
 },
 "nbformat": 4,
 "nbformat_minor": 5
}
